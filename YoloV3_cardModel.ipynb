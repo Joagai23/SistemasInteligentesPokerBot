{
  "nbformat": 4,
  "nbformat_minor": 0,
  "metadata": {
    "colab": {
      "name": "YoloV3_cardModel.ipynb",
      "provenance": [],
      "collapsed_sections": [],
      "toc_visible": true
    },
    "kernelspec": {
      "name": "python3",
      "display_name": "Python 3"
    },
    "accelerator": "GPU"
  },
  "cells": [
    {
      "cell_type": "markdown",
      "metadata": {
        "id": "RCRQLOGEoJsM",
        "colab_type": "text"
      },
      "source": [
        "# **0. Preparation**\n",
        "\n",
        "In order to train a Yolo v3 model using the previously generated dataset, we need to clone and compile darknet. After cloning and compiling darknet, we will import the card dataset we previously generated.\n",
        "\n",
        "Darknet is an open source neural network framework used to train Yolo. As for Yolo, it is a neural network algorithm which works this way. The network divides the image into regions and predicts bounding boxes and probabilities for each region. Then these boxes are weighted by the predicted probabilities.\n",
        "\n"
      ]
    },
    {
      "cell_type": "markdown",
      "metadata": {
        "id": "jV-_12D7MaVH",
        "colab_type": "text"
      },
      "source": [
        "### **Clone darknet**"
      ]
    },
    {
      "cell_type": "code",
      "metadata": {
        "id": "qdQWft7loUTA",
        "colab_type": "code",
        "colab": {}
      },
      "source": [
        "!git clone https://github.com/AlexeyAB/darknet"
      ],
      "execution_count": 0,
      "outputs": []
    },
    {
      "cell_type": "markdown",
      "metadata": {
        "id": "ThtCp4-EpQPT",
        "colab_type": "text"
      },
      "source": [
        "### **Compile darknet**"
      ]
    },
    {
      "cell_type": "code",
      "metadata": {
        "id": "PGiduF4bpUZ-",
        "colab_type": "code",
        "colab": {}
      },
      "source": [
        "%cd darknet\n",
        "!sed -i 's/GPU=0/GPU=1/g' Makefile\n",
        "!cat Makefile\n",
        "!make"
      ],
      "execution_count": 0,
      "outputs": []
    },
    {
      "cell_type": "markdown",
      "metadata": {
        "id": "guZasLRGpgRD",
        "colab_type": "text"
      },
      "source": [
        "### **Download dataset from Drive**\n"
      ]
    },
    {
      "cell_type": "code",
      "metadata": {
        "id": "uQ_Vl3RzpmPU",
        "colab_type": "code",
        "colab": {}
      },
      "source": [
        "import os.path\n",
        "import shutil\n",
        "from google.colab import drive\n",
        "\n",
        "if not os.path.exists('/content/gdrive'):\n",
        "  drive.mount('/content/gdrive')\n",
        "  \n",
        "DOWNLOAD_LOCATION = '/content/darknet/data/'\n",
        "DRIVE_DATASET_FILE = '/content/gdrive/My Drive/ml/card-dataset.zip'\n",
        "\n",
        "shutil.copy(DRIVE_DATASET_FILE, DOWNLOAD_LOCATION)\n",
        "\n",
        "print('Successfully downloaded the dataset')"
      ],
      "execution_count": 0,
      "outputs": []
    },
    {
      "cell_type": "markdown",
      "metadata": {
        "id": "6mv4-cjHrjV0",
        "colab_type": "text"
      },
      "source": [
        "### **Unzip the dataset**"
      ]
    },
    {
      "cell_type": "code",
      "metadata": {
        "id": "8MrNs0X2rixE",
        "colab_type": "code",
        "colab": {}
      },
      "source": [
        "!unzip data/card-dataset.zip -d data/"
      ],
      "execution_count": 0,
      "outputs": []
    },
    {
      "cell_type": "markdown",
      "metadata": {
        "id": "CV_Y9nfbsATG",
        "colab_type": "text"
      },
      "source": [
        "# **1. Training the model**\n",
        "\n",
        "With all the preparations already done, it's time to start the training. To do that, we will download the initial weights so we can start the process."
      ]
    },
    {
      "cell_type": "code",
      "metadata": {
        "id": "v9DIiCpAsNpK",
        "colab_type": "code",
        "colab": {}
      },
      "source": [
        "!wget https://pjreddie.com/media/files/darknet53.conv.74"
      ],
      "execution_count": 0,
      "outputs": []
    },
    {
      "cell_type": "markdown",
      "metadata": {
        "id": "BYioQTjxtuMr",
        "colab_type": "text"
      },
      "source": [
        "## **Set Yolo configurations**\n",
        "\n",
        "We need to set configurations for Yolo in order to properly train. There are few settings which we need to change in the default yolov3.cfg file.\n",
        "\n",
        "- batch\n",
        "- subdivisions (if you get memory out error, increase this 16, 32 or 64)\n",
        "- max_batches (it should be classes*2000)\n",
        "- steps (it should be 80%, 90% of max_batches)\n",
        "- classes (the number of classes which you are going to train)\n",
        "- filters (the value for filters can be calculated using (classes + 5)x3 )\n",
        "\n",
        "\n",
        "- classes = 52\n",
        "- filters = (52 + 5) * 3 = 171\n",
        "- max_batches = 52 * 2000 = 104000\n",
        "- steps = (0.8 * 104000), (0.9 * 104000) = (83200, 93600)"
      ]
    },
    {
      "cell_type": "code",
      "metadata": {
        "id": "ymbna8dntyTI",
        "colab_type": "code",
        "colab": {}
      },
      "source": [
        "!sed -i 's/batch=1/batch=64/g' cfg/yolov3.cfg\n",
        "!sed -i 's/subdivisions=1/subdivisions=32/g' cfg/yolov3.cfg\n",
        "!sed -i 's/max_batches = 500200/max_batches = 104000/g' cfg/yolov3.cfg\n",
        "!sed -i 's/steps=400000,450000/steps=83200,93600/g' cfg/yolov3.cfg\n",
        "!sed -i 's/classes=80/classes=52/g' cfg/yolov3.cfg\n",
        "!sed -i 's/filters=255/filters=171/g' cfg/yolov3.cfg\n",
        "!cat cfg/yolov3.cfg"
      ],
      "execution_count": 0,
      "outputs": []
    },
    {
      "cell_type": "markdown",
      "metadata": {
        "id": "br8phhE-N1MW",
        "colab_type": "text"
      },
      "source": [
        "### **Import pre-trained weights from drive (import pre-trained model)**"
      ]
    },
    {
      "cell_type": "code",
      "metadata": {
        "id": "0Dgv3LnvOAB3",
        "colab_type": "code",
        "colab": {}
      },
      "source": [
        "import os.path\n",
        "import shutil\n",
        "from google.colab import drive\n",
        "\n",
        "if not os.path.exists('/content/gdrive'):\n",
        "  drive.mount('/content/gdrive')\n",
        "  \n",
        "BACKUP_FOLDER = '/content/darknet/backup'\n",
        "DRIVE_YOLO_BACKUP = '/content/gdrive/My Drive/ml/yolov3_last_pretrained.weights'\n",
        "\n",
        "shutil.copy(DRIVE_YOLO_BACKUP, BACKUP_FOLDER)\n",
        "\n",
        "print('Successfully fetched the pretrained files for Yolo from Google drive')"
      ],
      "execution_count": 0,
      "outputs": []
    },
    {
      "cell_type": "markdown",
      "metadata": {
        "id": "mRRffYhouYJp",
        "colab_type": "text"
      },
      "source": [
        "### **Start the training**"
      ]
    },
    {
      "cell_type": "code",
      "metadata": {
        "id": "vbfDfCnoua1i",
        "colab_type": "code",
        "colab": {}
      },
      "source": [
        "# use the line below to train a fresh model\n",
        "!./darknet detector train data/obj.data cfg/yolov3.cfg darknet53.conv.74\n",
        "\n",
        "# use the line below to retrain your previous saved weight\n",
        "#!./darknet detector train data/obj.data cfg/yolov3.cfg backup/yolov3_last.weights"
      ],
      "execution_count": 0,
      "outputs": []
    },
    {
      "cell_type": "markdown",
      "metadata": {
        "id": "85uDWEKTQEa8",
        "colab_type": "text"
      },
      "source": [
        "### **Save trained weights**"
      ]
    },
    {
      "cell_type": "code",
      "metadata": {
        "id": "TTliLPwYOk0d",
        "colab_type": "code",
        "colab": {}
      },
      "source": [
        "# Once you have trained your model, you can save them to your Google drive. So that next time, you don't need to retrain\n",
        "import os.path\n",
        "import shutil\n",
        "from google.colab import drive\n",
        "\n",
        "if not os.path.exists('/content/gdrive'):\n",
        "  drive.mount('/content/gdrive')\n",
        "  \n",
        "YOLO_BACKUP = '/content/darknet/backup/yolov3_last.weights' #adjust the backup file name or keep it default\n",
        "DRIVE_DIR = '/content/gdrive/My Drive/ml/' #adjust path in your Google drive, or keep it default\n",
        "\n",
        "shutil.copy(YOLO_BACKUP, DRIVE_DIR)\n",
        "\n",
        "print('Saved training data to drive at: ' + DRIVE_DIR)"
      ],
      "execution_count": 0,
      "outputs": []
    },
    {
      "cell_type": "markdown",
      "metadata": {
        "id": "0-qPsqi6Q5iZ",
        "colab_type": "text"
      },
      "source": [
        "# **2. Testing the model**"
      ]
    },
    {
      "cell_type": "markdown",
      "metadata": {
        "id": "67xSMGMx2Qdo",
        "colab_type": "text"
      },
      "source": [
        "## **Running predictions**"
      ]
    },
    {
      "cell_type": "code",
      "metadata": {
        "id": "o7RHTzYj2T98",
        "colab_type": "code",
        "colab": {}
      },
      "source": [
        "#test the model on a picture\n",
        "!./darknet detector test data/obj.data cfg/yolov3.cfg backup/yolov3_last_pretrained.weights /content/test.jpg"
      ],
      "execution_count": 0,
      "outputs": []
    },
    {
      "cell_type": "markdown",
      "metadata": {
        "id": "_4jl4WkaanCY",
        "colab_type": "text"
      },
      "source": [
        "## **Display result**"
      ]
    },
    {
      "cell_type": "code",
      "metadata": {
        "id": "TeO5iiKNGUH-",
        "colab_type": "code",
        "colab": {}
      },
      "source": [
        "def display_image(file_path = '/content/darknet/predictions.jpg'):\n",
        "    import cv2\n",
        "    import matplotlib.pyplot as plt\n",
        "    import os.path\n",
        "\n",
        "    if os.path.exists(file_path):\n",
        "      img = cv2.imread(file_path)\n",
        "      show_img = cv2.cvtColor(img, cv2.COLOR_BGR2RGB) \n",
        "      plt.imshow(show_img)\n",
        "    else:\n",
        "      print('failed to open file')\n",
        "    \n",
        "display_image()"
      ],
      "execution_count": 0,
      "outputs": []
    }
  ]
}